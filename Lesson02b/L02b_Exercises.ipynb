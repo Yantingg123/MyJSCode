{
 "cells": [
  {
   "cell_type": "markdown",
   "metadata": {},
   "source": [
    "Exercise 1\n",
    "\n",
    "Write an arrow function assigned to the variable double, with one parameter, num.\n",
    "The function returns the value of num * 2.\n",
    "\n",
    "**NOTE: Do not remove %%script node. Write your answer below it.\n",
    "\n",
    "The %%script magic command in Jupyter Notebooks is used to specify the interpreter or language in which a particular cell's code should be executed. When you use %%script node, you are indicating that the code in that specific cell should be interpreted and executed as Node.js code."
   ]
  },
  {
   "cell_type": "code",
   "execution_count": 3,
   "metadata": {},
   "outputs": [
    {
     "name": "stdout",
     "output_type": "stream",
     "text": [
      "Answer: 4\n"
     ]
    }
   ],
   "source": [
    "%%script node\n",
    "\n",
    "\n",
    "\n",
    "const double = (num) => {\n",
    "return num *\n",
    "2;\n",
    "}\n",
    "\n",
    "console.log(\"Answer: \" + double(2));"
   ]
  },
  {
   "cell_type": "markdown",
   "metadata": {},
   "source": [
    "Exercise 2\n",
    "\n",
    "Write an arrow function named myInfo that:\n",
    "* Takes 2 arguments: myName and myAge\n",
    "* Output info in console using template literals (${}), example:\n",
    " *    \"My name is < myName > and I am < myAge > years old.\"\n",
    "\n",
    "**NOTE: Do not remove %%script node. Write your answer below it.\n",
    "\n",
    "The %%script magic command in Jupyter Notebooks is used to specify the interpreter or language in which a particular cell's code should be executed. When you use %%script node, you are indicating that the code in that specific cell should be interpreted and executed as Node.js code."
   ]
  },
  {
   "cell_type": "code",
   "execution_count": 7,
   "metadata": {},
   "outputs": [
    {
     "name": "stdout",
     "output_type": "stream",
     "text": [
      "My name is Peter and I am 19 years old.\n"
     ]
    }
   ],
   "source": [
    "%%script node\n",
    "\n",
    "const myInfo = (myName, myAge) => {\n",
    "    console.log(`My name is ${myName} and I am ${myAge} years old.`);\n",
    "};\n",
    "\n",
    "// Example usage\n",
    "myInfo(\"Peter\", 19);"
   ]
  },
  {
   "cell_type": "markdown",
   "metadata": {},
   "source": [
    "Exercise 3\n",
    "\n",
    "Write an arrow function named calculateMoneySpent that:\n",
    "* Takes 2 arguments: age and amount_per_day\n",
    "* Calculates the amount spent for the rest of the life (based on a constant max age of 100 years old)\n",
    "* Output the result in console using template literals (${}), example:\n",
    "*    \"You will need < amount spent > to last you another < years > years\"\n",
    "\n",
    "**NOTE: Do not remove %%script node. Write your answer below it.\n",
    "\n",
    "The %%script magic command in Jupyter Notebooks is used to specify the interpreter or language in which a particular cell's code should be executed. When you use %%script node, you are indicating that the code in that specific cell should be interpreted and executed as Node.js code."
   ]
  },
  {
   "cell_type": "code",
   "execution_count": 9,
   "metadata": {},
   "outputs": [
    {
     "name": "stdout",
     "output_type": "stream",
     "text": [
      "You will need $2920000 to last you another 80 years\n"
     ]
    }
   ],
   "source": [
    "%%script node\n",
    "\n",
    "const calculateMoneySpent = (age, amount_per_day) => {\n",
    "    const max_age = 100;\n",
    "    const years_left = max_age - age;\n",
    "    const amount_spent = years_left * 365 * amount_per_day;\n",
    "    console.log(`You will need $${amount_spent} to last you another ${years_left} years`);\n",
    "}\n",
    "\n",
    "// Example usage\n",
    "calculateMoneySpent(20, 100);\n"
   ]
  },
  {
   "cell_type": "markdown",
   "metadata": {},
   "source": [
    "Exercise 4\n",
    "\n",
    "Write a function that has two parameters a and b. b is a default parameter with value 2.\n",
    "\n",
    "The function returns the sum of a and b.\n",
    "\n",
    "**NOTE: Do not remove %%script node. Write your answer below it.\n",
    "\n",
    "The %%script magic command in Jupyter Notebooks is used to specify the interpreter or language in which a particular cell's code should be executed. When you use %%script node, you are indicating that the code in that specific cell should be interpreted and executed as Node.js code."
   ]
  },
  {
   "cell_type": "code",
   "execution_count": 12,
   "metadata": {},
   "outputs": [
    {
     "name": "stdout",
     "output_type": "stream",
     "text": [
      "\u001b[33m4\u001b[39m\n"
     ]
    }
   ],
   "source": [
    "%%script node\n",
    "function sum(a, b = 2) {\n",
    "    return a + b;\n",
    "}\n",
    "\n",
    "console.log(sum(2)); \n"
   ]
  },
  {
   "cell_type": "markdown",
   "metadata": {},
   "source": [
    "Exercise 5\n",
    "\n",
    "Using the spread operator(...), expand the fruits and vegetables array to obtain the following result:\n",
    " * [ 'apricot', 'orange', 'cucumber', 'potato' ]\n",
    "\n",
    " **NOTE: Do not remove %%script node. Write your answer below it.\n",
    " \n",
    " The %%script magic command in Jupyter Notebooks is used to specify the interpreter or language in which a particular cell's code should be executed. When you use %%script node, you are indicating that the code in that specific cell should be interpreted and executed as Node.js code."
   ]
  },
  {
   "cell_type": "code",
   "execution_count": 11,
   "metadata": {},
   "outputs": [
    {
     "name": "stdout",
     "output_type": "stream",
     "text": [
      "[ \u001b[32m'apricot'\u001b[39m, \u001b[32m'orange'\u001b[39m, \u001b[32m'cucumber'\u001b[39m, \u001b[32m'potato'\u001b[39m ]\n"
     ]
    }
   ],
   "source": [
    "%%script node\n",
    "\n",
    "const fruits = [\"apricot\", \"orange\"];\n",
    "const vegetables = [\"cucumber\", \"potato\"];\n",
    "\n",
    "const new_array = [ ... fruits, ... vegetables];\n",
    "console. log(new_array);\n"
   ]
  },
  {
   "cell_type": "markdown",
   "metadata": {},
   "source": [
    "Exercise 6 - JavaScript Classes (Refer to Notes Slide 27 - 28)\n",
    "\n",
    "Create a Book class with the following specifications:\n",
    "\n",
    "* The Book class should have a constructor that takes the book's title, author, and publication year as parameters and initializes them as properties of the instance.\n",
    "* Add a method named getDetails that prints out the book's title, author, and publication year using Template strings.\n",
    "* Create an instance of the Book class and call the getDetails method to display the information.\n",
    "\n",
    "**NOTE: Do not remove %%script node. Write your answer below it.\n",
    "\n",
    "The %%script magic command in Jupyter Notebooks is used to specify the interpreter or language in which a particular cell's code should be executed. When you use %%script node, you are indicating that the code in that specific cell should be interpreted and executed as Node.js code."
   ]
  },
  {
   "cell_type": "code",
   "execution_count": 15,
   "metadata": {},
   "outputs": [
    {
     "name": "stdout",
     "output_type": "stream",
     "text": [
      "Title: Intro to JavaScript\n",
      " Author: R.M. Salinzer\n",
      "Publication Year: 2023 \n"
     ]
    }
   ],
   "source": [
    "%%script node\n",
    "class Book {\n",
    "constructor(title, author, publicationYear) {\n",
    "this.title = title;\n",
    "this.author = author;\n",
    "this.publicationYear = publicationYear;\n",
    "\n",
    "}\n",
    "\n",
    "getDetails() {\n",
    "console. log( `Title: ${this.title}`);\n",
    "console. log(` Author: ${this.author}` );\n",
    "console. log( `Publication Year: ${this.publicationYear} `);\n",
    "\n",
    "}\n",
    "\n",
    "}\n",
    "\n",
    "const myBook = new Book(\"Intro to JavaScript\", \"R.M. Salinzer\", 2023);\n",
    "myBook.getDetails();\n"
   ]
  },
  {
   "cell_type": "markdown",
   "metadata": {},
   "source": [
    "Exercise 7 - JavaScript Classes (Refer to Notes Slide 31 - 32)\n",
    "\n",
    "Create a Magazine class that inherits from the Book class. Here are the details::\n",
    "\n",
    "* Create a Book class with a constructor that takes the book's title, author, and publication year as parameters. Include a getDetails method that prints out the book's details. (you can copy and paste your code from Exercise 6)\n",
    "\n",
    "* Create a Magazine class that extends the Book class. Add an additional property, such as issueNumber, specific to magazines. Override the getDetails method to include information about the issue number.\n",
    "\n",
    "* Create instances of both the Book and Magazine classes and call their respective getDetails methods.\n",
    "\n",
    "**NOTE: Do not remove %%script node. Write your answer below it.\n",
    "\n",
    "The %%script magic command in Jupyter Notebooks is used to specify the interpreter or language in which a particular cell's code should be executed. When you use %%script node, you are indicating that the code in that specific cell should be interpreted and executed as Node.js code."
   ]
  },
  {
   "cell_type": "code",
   "execution_count": 18,
   "metadata": {},
   "outputs": [
    {
     "name": "stdout",
     "output_type": "stream",
     "text": [
      "Title: Intro to JavaScript\n",
      " Author: R.M. Salinzer\n",
      "Publication Year: 2023 \n",
      "Title: National Geographic\n",
      " Author: Various\n",
      "Publication Year: 2022 \n",
      "Issue Number: 123\n"
     ]
    }
   ],
   "source": [
    "%%script node\n",
    "\n",
    "class Book {\n",
    "constructor(title, author, publicationYear) {\n",
    "this.title = title;\n",
    "this.author = author;\n",
    "this.publicationYear = publicationYear;\n",
    "\n",
    "}\n",
    "\n",
    "getDetails() {\n",
    "console. log( `Title: ${this.title}`);\n",
    "console. log(` Author: ${this.author}` );\n",
    "console. log( `Publication Year: ${this.publicationYear} `);\n",
    "\n",
    "}\n",
    "\n",
    "}\n",
    "\n",
    "class Magazine extends Book {\n",
    "    constructor(title, author, publicationYear, issueNumber) {\n",
    "    super(title, author, publicationYear);\n",
    "    this.issueNumber = issueNumber;\n",
    "\n",
    "}\n",
    "\n",
    "getDetails() {\n",
    "    super.getDetails(); \n",
    "    console.log(`Issue Number: ${this.issueNumber}`);  \n",
    "}\n",
    "}\n",
    "const myBook = new Book(\"Intro to JavaScript\", \"R.M. Salinzer\", 2023);\n",
    "myBook.getDetails();\n",
    "\n",
    "const myMagazine = new Magazine(\"National Geographic\", \"Various\", 2022, 123);\n",
    "myMagazine.getDetails();\n",
    "\n",
    "\n",
    "\n",
    "\n"
   ]
  }
 ],
 "metadata": {
  "kernelspec": {
   "display_name": "Python 3",
   "language": "python",
   "name": "python3"
  },
  "language_info": {
   "codemirror_mode": {
    "name": "ipython",
    "version": 3
   },
   "file_extension": ".py",
   "mimetype": "text/x-python",
   "name": "python",
   "nbconvert_exporter": "python",
   "pygments_lexer": "ipython3",
   "version": "3.8.6"
  }
 },
 "nbformat": 4,
 "nbformat_minor": 2
}
