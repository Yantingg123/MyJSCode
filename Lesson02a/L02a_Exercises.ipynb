{
 "cells": [
  {
   "cell_type": "markdown",
   "metadata": {},
   "source": [
    "EXERCISE 1 - VARIABLES (Refer to Notes Slide 11)\n",
    "\n",
    " Define the following variables and print the values:\n",
    " * A number named 'num' that contains the number 5.\n",
    " * A string named 'text' that contains the sentence I love javascript.\n",
    " * A boolean named 'vaccinated' that contains the value true.\n",
    "\n",
    " **NOTE: Do not remove %%script node. Write your answer below it.\n",
    "\n",
    "The %%script magic command in Jupyter Notebooks is used to specify the interpreter or language in which a particular cell's code should be executed. When you use %%script node, you are indicating that the code in that specific cell should be interpreted and executed as Node.js code."
   ]
  },
  {
   "cell_type": "code",
   "execution_count": 1,
   "metadata": {},
   "outputs": [
    {
     "name": "stdout",
     "output_type": "stream",
     "text": [
      "num is equal to 5\n",
      "text is equal to I love javascript\n",
      "vaccinated is equal to true\n"
     ]
    }
   ],
   "source": [
    "%%script node \n",
    "\n",
    "let num = 5;\n",
    "let text = \"I love javascript\";\n",
    "let vaccinated = true;\n",
    "\n",
    "console.log(\"num is equal to \" + num);\n",
    "console.log(\"text is equal to \" + text);\n",
    "console.log(\"vaccinated is equal to \" + vaccinated);"
   ]
  },
  {
   "cell_type": "markdown",
   "metadata": {},
   "source": [
    "EXERCISE 2 - Loops (Refer to Notes Slide 21)\n",
    "\n",
    "Write a JavaScript program that uses a for loop to display all even numbers between 1 and 20 (inclusive). Each number should be printed on a new line.\n",
    "\n",
    "**NOTE: Do not remove %%script node. Write your answer below it.\n",
    "\n",
    "The %%script magic command in Jupyter Notebooks is used to specify the interpreter or language in which a particular cell's code should be executed. When you use %%script node, you are indicating that the code in that specific cell should be interpreted and executed as Node.js code."
   ]
  },
  {
   "cell_type": "code",
   "execution_count": 2,
   "metadata": {},
   "outputs": [
    {
     "name": "stdout",
     "output_type": "stream",
     "text": [
      "\u001b[33m2\u001b[39m\n",
      "\u001b[33m4\u001b[39m\n",
      "\u001b[33m6\u001b[39m\n",
      "\u001b[33m8\u001b[39m\n",
      "\u001b[33m10\u001b[39m\n",
      "\u001b[33m12\u001b[39m\n",
      "\u001b[33m14\u001b[39m\n",
      "\u001b[33m16\u001b[39m\n",
      "\u001b[33m18\u001b[39m\n",
      "\u001b[33m20\u001b[39m\n"
     ]
    }
   ],
   "source": [
    "%%script node\n",
    "\n",
    "for (let i = 2; i <= 20; i += 2) {\n",
    "console.log(i);\n",
    "\n",
    "}"
   ]
  },
  {
   "cell_type": "markdown",
   "metadata": {},
   "source": [
    "EXERCISE 3 - Defining an array (Refer to Notes slides 24 - 25)\n",
    "\n",
    "Edit theArr to contain the following values:\n",
    "* A string that has the value of \"The dog is sleeping\"\n",
    "* A number that has a value of 5\n",
    "* A boolean that has a value of true\n",
    "\n",
    "**NOTE: Do not remove %%script node. Write your answer below it.\n",
    "\n",
    "The %%script magic command in Jupyter Notebooks is used to specify the interpreter or language in which a particular cell's code should be executed. When you use %%script node, you are indicating that the code in that specific cell should be interpreted and executed as Node.js code."
   ]
  },
  {
   "cell_type": "code",
   "execution_count": 3,
   "metadata": {},
   "outputs": [
    {
     "name": "stdout",
     "output_type": "stream",
     "text": [
      "The dog is sleeping \n",
      "\u001b[33m5\u001b[39m\n",
      "\u001b[33mtrue\u001b[39m\n"
     ]
    }
   ],
   "source": [
    "%%script node\n",
    "\n",
    "const theArr = [\"The dog is sleeping \" , 5 ,true];\n",
    "\n",
    "console.log(theArr[0]);\n",
    "console.log(theArr[1]);\n",
    "console.log(theArr[2]);"
   ]
  },
  {
   "cell_type": "markdown",
   "metadata": {},
   "source": [
    "EXERCISE 4 - Accessing Array Elements (Refer to Notes Slides 28 - 29)\n",
    "\n",
    "Write a for loop that iterates on the myArr variable and display each element in the array.\n",
    "\n",
    "**NOTE: Do not remove %%script node. Write your answer below it.\n",
    "\n",
    "The %%script magic command in Jupyter Notebooks is used to specify the interpreter or language in which a particular cell's code should be executed. When you use %%script node, you are indicating that the code in that specific cell should be interpreted and executed as Node.js code."
   ]
  },
  {
   "cell_type": "code",
   "execution_count": 7,
   "metadata": {},
   "outputs": [
    {
     "name": "stdout",
     "output_type": "stream",
     "text": [
      "The dog is sleeping\n",
      "\u001b[33m5\u001b[39m\n",
      "\u001b[33mtrue\u001b[39m\n"
     ]
    }
   ],
   "source": [
    "%%script node\n",
    "\n",
    "const theArr = [\"The dog is sleeping\", 5, true];\n",
    "\n",
    "for (let i = 0; i < theArr.length ; i++)\n",
    "\n",
    "console. log(theArr[i]);\n",
    "\n"
   ]
  },
  {
   "cell_type": "markdown",
   "metadata": {},
   "source": [
    "EXERCISE 5 - Manipulating Arrays (Refer to Notes Slides 32 - 36)\n",
    "\n",
    "Do the following to the array theArr:\n",
    "1. Add the number 36 to the end of the array.\n",
    "2. Remove the last element of the array.\n",
    "3. Add a new items (\"Hello\") to the beginning of the array\n",
    "\n",
    "Print the array after every step.\n",
    "\n",
    "**NOTE: Do not remove %%script node. Write your answer below it.\n",
    "\n",
    "The %%script magic command in Jupyter Notebooks is used to specify the interpreter or language in which a particular cell's code should be executed. When you use %%script node, you are indicating that the code in that specific cell should be interpreted and executed as Node.js code."
   ]
  },
  {
   "cell_type": "code",
   "execution_count": 8,
   "metadata": {},
   "outputs": [
    {
     "name": "stdout",
     "output_type": "stream",
     "text": [
      "After adding number 36: .The dog is sleeping,5,true,36\n",
      "After .removing last element: The dog is sleeping,5,true\n",
      "After .adding.Hello: Hello,The dog is sleeping,5,true\n"
     ]
    }
   ],
   "source": [
    "%%script node\n",
    "\n",
    "const theArr = [\"The dog is sleeping\", 5, true];\n",
    "\n",
    "theArr.push(36);\n",
    "console.log(\"After adding number 36: .\" + theArr);\n",
    "\n",
    "theArr. pop();\n",
    "console.log(\"After .removing last element: \" + theArr);\n",
    "\n",
    "theArr.unshift(\"Hello\");\n",
    "console.log(\"After .adding.Hello: \" + theArr);\n"
   ]
  },
  {
   "cell_type": "markdown",
   "metadata": {},
   "source": [
    "EXERCISE 6 - Destructuring Arrays (Refer to Notes Slide 39)\n",
    "\n",
    "Unpack the values from array fruitsArr into distinct variables (fruit1, fruit2, fruit3).\n",
    "\n",
    "Print the variables after destructuring.\n",
    "\n",
    "**NOTE: Do not remove %%script node. Write your answer below it.\n",
    "\n",
    "The %%script magic command in Jupyter Notebooks is used to specify the interpreter or language in which a particular cell's code should be executed. When you use %%script node, you are indicating that the code in that specific cell should be interpreted and executed as Node.js code."
   ]
  },
  {
   "cell_type": "code",
   "execution_count": 9,
   "metadata": {},
   "outputs": [
    {
     "name": "stdout",
     "output_type": "stream",
     "text": [
      "Fruit 1: Apple\n",
      "Fruit .2: Pear\n",
      "Fruit 3: Orange\n"
     ]
    }
   ],
   "source": [
    "%%script node\n",
    "\n",
    "const fruitsArr = [\"Apple\", \"Pear\", \"Orange\"];\n",
    "const [fruit1, fruit2, fruit3] = fruitsArr;\n",
    "\n",
    "console.log(\"Fruit 1: \"+ fruit1);\n",
    "console.log(\"Fruit .2: \"+ fruit2);\n",
    "console.log(\"Fruit 3: \"+ fruit3);\n"
   ]
  },
  {
   "cell_type": "markdown",
   "metadata": {},
   "source": [
    "EXERCISE 7 - Functions (Refer to Notes Slides 42 - 44)\n",
    "\n",
    "Define a function called multiplyFive which accepts a number and returns that number multiplied by 5.\n",
    "\n",
    "Call the function and print the answer as shown in the sample output.\n",
    "\n",
    "**NOTE: Do not remove %%script node. Write your answer below it.\n",
    "\n",
    "The %%script magic command in Jupyter Notebooks is used to specify the interpreter or language in which a particular cell's code should be executed. When you use %%script node, you are indicating that the code in that specific cell should be interpreted and executed as Node.js code."
   ]
  },
  {
   "cell_type": "code",
   "execution_count": 11,
   "metadata": {},
   "outputs": [
    {
     "name": "stdout",
     "output_type": "stream",
     "text": [
      "Answer is: 50\n"
     ]
    }
   ],
   "source": [
    "%%script node\n",
    "function multiplyFive (num)\n",
    "{\n",
    "return num * 5;\n",
    "\n",
    "}\n",
    "\n",
    "console.log(\"Answer is: \" + multiplyFive(10))\n",
    "\n"
   ]
  },
  {
   "cell_type": "markdown",
   "metadata": {},
   "source": [
    "EXERCISE 8 - JavaScript Objects (Refer to Notes Slides 47 - 49)\n",
    "\n",
    "Define a JavaScript object called person with the following properties:\n",
    "* The property givenName of the person is \"Peter\"\n",
    "* The property surname of the person is \"Tan\"\n",
    "* The property age of the person is 19\n",
    "* The property graduated of the person is false\n",
    "\n",
    "Print the values of all the properties as shown in the sample output.\n",
    "\n",
    "**NOTE: Do not remove %%script node. Write your answer below it.\n",
    "\n",
    "The %%script magic command in Jupyter Notebooks is used to specify the interpreter or language in which a particular cell's code should be executed. When you use %%script node, you are indicating that the code in that specific cell should be interpreted and executed as Node.js code."
   ]
  },
  {
   "cell_type": "code",
   "execution_count": 12,
   "metadata": {},
   "outputs": [
    {
     "name": "stdout",
     "output_type": "stream",
     "text": [
      "Given Name: Peter\n",
      "Surname: Tan\n",
      "Age: 19\n",
      "Graduated: false\n"
     ]
    }
   ],
   "source": [
    "%%script node\n",
    "const person = {\n",
    "givenName: \"Peter\",\n",
    "surname: \"Tan\",\n",
    "age: 19,\n",
    "graduated: false\n",
    "\n",
    "}\n",
    "\n",
    "console.log(\"Given Name: \" + person.givenName);\n",
    "console.log(\"Surname: \" + person. surname);\n",
    "console.log(\"Age: \" + person.age);\n",
    "console.log(\"Graduated: \" + person. graduated);\n"
   ]
  },
  {
   "cell_type": "markdown",
   "metadata": {},
   "source": [
    "Challenge Question\n",
    "\n",
    "Write a JavaScript program that implements a simple calculator. \n",
    "Implement a function called calculate that takes two numbers and an operation (either \"add\", \"subtract\", \"multiply\", or \"divide\") as arguments and returns the result of the operation.\n",
    "\n",
    "**NOTE: Do not remove %%script node. Write your answer below it.\n",
    "\n",
    "The %%script magic command in Jupyter Notebooks is used to specify the interpreter or language in which a particular cell's code should be executed. When you use %%script node, you are indicating that the code in that specific cell should be interpreted and executed as Node.js code."
   ]
  },
  {
   "cell_type": "code",
   "execution_count": 21,
   "metadata": {},
   "outputs": [
    {
     "name": "stdout",
     "output_type": "stream",
     "text": [
      "5 + 3: \u001b[33m8\u001b[39m\n",
      "8 - 2: \u001b[33m6\u001b[39m\n",
      "4 * 6: \u001b[33m24\u001b[39m\n",
      "10 / 2: \u001b[33m5\u001b[39m\n"
     ]
    }
   ],
   "source": [
    "%%script node\n",
    "function calculate(num1, num2, operation) {\n",
    "    switch(operation) {\n",
    "        case \"add\":\n",
    "            return num1 + num2;\n",
    "        case \"subtract\":\n",
    "            return num1 - num2;\n",
    "        case \"multiply\":\n",
    "            return num1 * num2;\n",
    "        case \"divide\":\n",
    "            if (num2 === 0) {\n",
    "                return \"Cannot divide by zero!\";\n",
    "            } else {\n",
    "                return num1 / num2;\n",
    "            }\n",
    "        default:\n",
    "            return \"Invalid operation!\";\n",
    "    }\n",
    "}\n",
    " \n",
    "console.log(\"5 + 3:\", calculate(5, 3, \"add\"));\n",
    "console.log(\"8 - 2:\", calculate(8, 2, \"subtract\"));\n",
    "console.log(\"4 * 6:\", calculate(4, 6, \"multiply\"));\n",
    "console.log(\"10 / 2:\", calculate(10, 2, \"divide\"));\n",
    " \n",
    " "
   ]
  }
 ],
 "metadata": {
  "kernelspec": {
   "display_name": "Python 3",
   "language": "python",
   "name": "python3"
  },
  "language_info": {
   "codemirror_mode": {
    "name": "ipython",
    "version": 3
   },
   "file_extension": ".py",
   "mimetype": "text/x-python",
   "name": "python",
   "nbconvert_exporter": "python",
   "pygments_lexer": "ipython3",
   "version": "3.8.6"
  }
 },
 "nbformat": 4,
 "nbformat_minor": 2
}
